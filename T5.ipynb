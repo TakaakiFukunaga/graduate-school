{
  "nbformat": 4,
  "nbformat_minor": 0,
  "metadata": {
    "colab": {
      "provenance": [],
      "gpuType": "T4",
      "authorship_tag": "ABX9TyOsNYtnRdwUfEHv5eBXbWac",
      "include_colab_link": true
    },
    "kernelspec": {
      "name": "python3",
      "display_name": "Python 3"
    },
    "language_info": {
      "name": "python"
    },
    "accelerator": "GPU",
    "gpuClass": "standard",
    "widgets": {
      "application/vnd.jupyter.widget-state+json": {
        "40b29b2aa6344639a2e9b3d0fcaa7f30": {
          "model_module": "@jupyter-widgets/controls",
          "model_name": "HBoxModel",
          "model_module_version": "1.5.0",
          "state": {
            "_dom_classes": [],
            "_model_module": "@jupyter-widgets/controls",
            "_model_module_version": "1.5.0",
            "_model_name": "HBoxModel",
            "_view_count": null,
            "_view_module": "@jupyter-widgets/controls",
            "_view_module_version": "1.5.0",
            "_view_name": "HBoxView",
            "box_style": "",
            "children": [
              "IPY_MODEL_e3af4e80c89845d695c6d87fd434f403",
              "IPY_MODEL_b490c66ae24343b6b39b88cdc23f99c6",
              "IPY_MODEL_1aede502e9b04f41aec984052b166112"
            ],
            "layout": "IPY_MODEL_3046773b096f40de9a74cabf8bc5e87c"
          }
        },
        "e3af4e80c89845d695c6d87fd434f403": {
          "model_module": "@jupyter-widgets/controls",
          "model_name": "HTMLModel",
          "model_module_version": "1.5.0",
          "state": {
            "_dom_classes": [],
            "_model_module": "@jupyter-widgets/controls",
            "_model_module_version": "1.5.0",
            "_model_name": "HTMLModel",
            "_view_count": null,
            "_view_module": "@jupyter-widgets/controls",
            "_view_module_version": "1.5.0",
            "_view_name": "HTMLView",
            "description": "",
            "description_tooltip": null,
            "layout": "IPY_MODEL_5f374c918152498ea6b609ce8d6d6721",
            "placeholder": "​",
            "style": "IPY_MODEL_292833533ae845e88e2ae2fe1786b5bf",
            "value": "Downloading pytorch_model.bin: 100%"
          }
        },
        "b490c66ae24343b6b39b88cdc23f99c6": {
          "model_module": "@jupyter-widgets/controls",
          "model_name": "FloatProgressModel",
          "model_module_version": "1.5.0",
          "state": {
            "_dom_classes": [],
            "_model_module": "@jupyter-widgets/controls",
            "_model_module_version": "1.5.0",
            "_model_name": "FloatProgressModel",
            "_view_count": null,
            "_view_module": "@jupyter-widgets/controls",
            "_view_module_version": "1.5.0",
            "_view_name": "ProgressView",
            "bar_style": "success",
            "description": "",
            "description_tooltip": null,
            "layout": "IPY_MODEL_cacb8f5f2f3e4bc8a795dd48b84b6d3f",
            "max": 891733624,
            "min": 0,
            "orientation": "horizontal",
            "style": "IPY_MODEL_dada8d8dc064432ea2cab4a7a4bd0e8b",
            "value": 891733624
          }
        },
        "1aede502e9b04f41aec984052b166112": {
          "model_module": "@jupyter-widgets/controls",
          "model_name": "HTMLModel",
          "model_module_version": "1.5.0",
          "state": {
            "_dom_classes": [],
            "_model_module": "@jupyter-widgets/controls",
            "_model_module_version": "1.5.0",
            "_model_name": "HTMLModel",
            "_view_count": null,
            "_view_module": "@jupyter-widgets/controls",
            "_view_module_version": "1.5.0",
            "_view_name": "HTMLView",
            "description": "",
            "description_tooltip": null,
            "layout": "IPY_MODEL_282b49e601c4471d8bcf63d42ee538bd",
            "placeholder": "​",
            "style": "IPY_MODEL_db31d74b09b24e2da6fe5ba84ec82b8c",
            "value": " 892M/892M [00:06&lt;00:00, 262MB/s]"
          }
        },
        "3046773b096f40de9a74cabf8bc5e87c": {
          "model_module": "@jupyter-widgets/base",
          "model_name": "LayoutModel",
          "model_module_version": "1.2.0",
          "state": {
            "_model_module": "@jupyter-widgets/base",
            "_model_module_version": "1.2.0",
            "_model_name": "LayoutModel",
            "_view_count": null,
            "_view_module": "@jupyter-widgets/base",
            "_view_module_version": "1.2.0",
            "_view_name": "LayoutView",
            "align_content": null,
            "align_items": null,
            "align_self": null,
            "border": null,
            "bottom": null,
            "display": null,
            "flex": null,
            "flex_flow": null,
            "grid_area": null,
            "grid_auto_columns": null,
            "grid_auto_flow": null,
            "grid_auto_rows": null,
            "grid_column": null,
            "grid_gap": null,
            "grid_row": null,
            "grid_template_areas": null,
            "grid_template_columns": null,
            "grid_template_rows": null,
            "height": null,
            "justify_content": null,
            "justify_items": null,
            "left": null,
            "margin": null,
            "max_height": null,
            "max_width": null,
            "min_height": null,
            "min_width": null,
            "object_fit": null,
            "object_position": null,
            "order": null,
            "overflow": null,
            "overflow_x": null,
            "overflow_y": null,
            "padding": null,
            "right": null,
            "top": null,
            "visibility": null,
            "width": null
          }
        },
        "5f374c918152498ea6b609ce8d6d6721": {
          "model_module": "@jupyter-widgets/base",
          "model_name": "LayoutModel",
          "model_module_version": "1.2.0",
          "state": {
            "_model_module": "@jupyter-widgets/base",
            "_model_module_version": "1.2.0",
            "_model_name": "LayoutModel",
            "_view_count": null,
            "_view_module": "@jupyter-widgets/base",
            "_view_module_version": "1.2.0",
            "_view_name": "LayoutView",
            "align_content": null,
            "align_items": null,
            "align_self": null,
            "border": null,
            "bottom": null,
            "display": null,
            "flex": null,
            "flex_flow": null,
            "grid_area": null,
            "grid_auto_columns": null,
            "grid_auto_flow": null,
            "grid_auto_rows": null,
            "grid_column": null,
            "grid_gap": null,
            "grid_row": null,
            "grid_template_areas": null,
            "grid_template_columns": null,
            "grid_template_rows": null,
            "height": null,
            "justify_content": null,
            "justify_items": null,
            "left": null,
            "margin": null,
            "max_height": null,
            "max_width": null,
            "min_height": null,
            "min_width": null,
            "object_fit": null,
            "object_position": null,
            "order": null,
            "overflow": null,
            "overflow_x": null,
            "overflow_y": null,
            "padding": null,
            "right": null,
            "top": null,
            "visibility": null,
            "width": null
          }
        },
        "292833533ae845e88e2ae2fe1786b5bf": {
          "model_module": "@jupyter-widgets/controls",
          "model_name": "DescriptionStyleModel",
          "model_module_version": "1.5.0",
          "state": {
            "_model_module": "@jupyter-widgets/controls",
            "_model_module_version": "1.5.0",
            "_model_name": "DescriptionStyleModel",
            "_view_count": null,
            "_view_module": "@jupyter-widgets/base",
            "_view_module_version": "1.2.0",
            "_view_name": "StyleView",
            "description_width": ""
          }
        },
        "cacb8f5f2f3e4bc8a795dd48b84b6d3f": {
          "model_module": "@jupyter-widgets/base",
          "model_name": "LayoutModel",
          "model_module_version": "1.2.0",
          "state": {
            "_model_module": "@jupyter-widgets/base",
            "_model_module_version": "1.2.0",
            "_model_name": "LayoutModel",
            "_view_count": null,
            "_view_module": "@jupyter-widgets/base",
            "_view_module_version": "1.2.0",
            "_view_name": "LayoutView",
            "align_content": null,
            "align_items": null,
            "align_self": null,
            "border": null,
            "bottom": null,
            "display": null,
            "flex": null,
            "flex_flow": null,
            "grid_area": null,
            "grid_auto_columns": null,
            "grid_auto_flow": null,
            "grid_auto_rows": null,
            "grid_column": null,
            "grid_gap": null,
            "grid_row": null,
            "grid_template_areas": null,
            "grid_template_columns": null,
            "grid_template_rows": null,
            "height": null,
            "justify_content": null,
            "justify_items": null,
            "left": null,
            "margin": null,
            "max_height": null,
            "max_width": null,
            "min_height": null,
            "min_width": null,
            "object_fit": null,
            "object_position": null,
            "order": null,
            "overflow": null,
            "overflow_x": null,
            "overflow_y": null,
            "padding": null,
            "right": null,
            "top": null,
            "visibility": null,
            "width": null
          }
        },
        "dada8d8dc064432ea2cab4a7a4bd0e8b": {
          "model_module": "@jupyter-widgets/controls",
          "model_name": "ProgressStyleModel",
          "model_module_version": "1.5.0",
          "state": {
            "_model_module": "@jupyter-widgets/controls",
            "_model_module_version": "1.5.0",
            "_model_name": "ProgressStyleModel",
            "_view_count": null,
            "_view_module": "@jupyter-widgets/base",
            "_view_module_version": "1.2.0",
            "_view_name": "StyleView",
            "bar_color": null,
            "description_width": ""
          }
        },
        "282b49e601c4471d8bcf63d42ee538bd": {
          "model_module": "@jupyter-widgets/base",
          "model_name": "LayoutModel",
          "model_module_version": "1.2.0",
          "state": {
            "_model_module": "@jupyter-widgets/base",
            "_model_module_version": "1.2.0",
            "_model_name": "LayoutModel",
            "_view_count": null,
            "_view_module": "@jupyter-widgets/base",
            "_view_module_version": "1.2.0",
            "_view_name": "LayoutView",
            "align_content": null,
            "align_items": null,
            "align_self": null,
            "border": null,
            "bottom": null,
            "display": null,
            "flex": null,
            "flex_flow": null,
            "grid_area": null,
            "grid_auto_columns": null,
            "grid_auto_flow": null,
            "grid_auto_rows": null,
            "grid_column": null,
            "grid_gap": null,
            "grid_row": null,
            "grid_template_areas": null,
            "grid_template_columns": null,
            "grid_template_rows": null,
            "height": null,
            "justify_content": null,
            "justify_items": null,
            "left": null,
            "margin": null,
            "max_height": null,
            "max_width": null,
            "min_height": null,
            "min_width": null,
            "object_fit": null,
            "object_position": null,
            "order": null,
            "overflow": null,
            "overflow_x": null,
            "overflow_y": null,
            "padding": null,
            "right": null,
            "top": null,
            "visibility": null,
            "width": null
          }
        },
        "db31d74b09b24e2da6fe5ba84ec82b8c": {
          "model_module": "@jupyter-widgets/controls",
          "model_name": "DescriptionStyleModel",
          "model_module_version": "1.5.0",
          "state": {
            "_model_module": "@jupyter-widgets/controls",
            "_model_module_version": "1.5.0",
            "_model_name": "DescriptionStyleModel",
            "_view_count": null,
            "_view_module": "@jupyter-widgets/base",
            "_view_module_version": "1.2.0",
            "_view_name": "StyleView",
            "description_width": ""
          }
        }
      }
    }
  },
  "cells": [
    {
      "cell_type": "markdown",
      "metadata": {
        "id": "view-in-github",
        "colab_type": "text"
      },
      "source": [
        "<a href=\"https://colab.research.google.com/github/TakaakiFukunaga/graduate-school/blob/main/T5.ipynb\" target=\"_parent\"><img src=\"https://colab.research.google.com/assets/colab-badge.svg\" alt=\"Open In Colab\"/></a>"
      ]
    },
    {
      "cell_type": "code",
      "execution_count": null,
      "metadata": {
        "id": "KFB121Z7EJ8O"
      },
      "outputs": [],
      "source": [
        "from pathlib import Path \n",
        "\n",
        "path = Path('summarization')\n",
        "if not path.exists():\n",
        "    path.mkdir(parents=True)"
      ]
    },
    {
      "cell_type": "code",
      "metadata": {
        "id": "5JQI6sIAAR2T"
      },
      "source": [
        "!pip install -qU torch==1.13.* torchtext==0.14.* torchvision==0.14.* torchaudio==0.13.* torchmetrics==0.11.* \\\n",
        "    transformers==4.26.1 pytorch_lightning==1.9.3 sentencepiece==0.1.97"
      ],
      "execution_count": null,
      "outputs": []
    },
    {
      "cell_type": "code",
      "source": [
        "!pip install neologdn"
      ],
      "metadata": {
        "colab": {
          "base_uri": "https://localhost:8080/"
        },
        "id": "udJjm13NVf3O",
        "outputId": "429b48d8-96dc-4680-b9f5-d8400bc4c241"
      },
      "execution_count": null,
      "outputs": [
        {
          "output_type": "stream",
          "name": "stdout",
          "text": [
            "Looking in indexes: https://pypi.org/simple, https://us-python.pkg.dev/colab-wheels/public/simple/\n",
            "Requirement already satisfied: neologdn in /usr/local/lib/python3.10/dist-packages (0.5.1)\n"
          ]
        }
      ]
    },
    {
      "cell_type": "code",
      "source": [
        "import re\n",
        "import math\n",
        "import time\n",
        "import copy\n",
        "from tqdm import tqdm\n",
        "import pandas as pd\n",
        "import tarfile\n",
        "import neologdn\n",
        "from sklearn.model_selection import train_test_split\n",
        "import torch\n",
        "import torch.nn as nn\n",
        "from torch import optim\n",
        "from torch.utils.data import DataLoader\n",
        "from transformers import T5ForConditionalGeneration, T5Tokenizer"
      ],
      "metadata": {
        "id": "q-7S5qFiP2ss"
      },
      "execution_count": null,
      "outputs": []
    },
    {
      "cell_type": "code",
      "source": [
        "class Settings:\n",
        "  def __init__(self):\n",
        "\n",
        "\n",
        "\n",
        "    self.MODEL_NAME = \"sonoisa/t5-base-japanese\"\n",
        "    self.device = torch.device('cuda' if torch.cuda.is_available() else 'cpu')\n",
        "\n",
        "    self.max_length_src = 400\n",
        "    self.max_length_target = 200\n",
        "\n",
        "    self.batch_size_train = 8\n",
        "    self.batch_size_valid = 8\n",
        "    \n",
        "    self.epochs = 1000\n",
        "    self.patience = 20\n",
        "\n",
        "settings = Settings()"
      ],
      "metadata": {
        "id": "ibulwBSAOgXd"
      },
      "execution_count": null,
      "outputs": []
    },
    {
      "cell_type": "code",
      "source": [
        "body_data = pd.read_csv('body_data.csv')\n",
        "summary_data = pd.read_csv('summary_data.csv')\n",
        "\n",
        "pd.merge(\n",
        "    body_data.query('text.notnull()', engine='python').rename(columns={'text': 'body'}),\n",
        "    summary_data.rename(columns={'text': 'summary'}),\n",
        "    on='article_id', how='inner'\n",
        ").sort_values('article_id').head(10)"
      ],
      "metadata": {
        "colab": {
          "base_uri": "https://localhost:8080/",
          "height": 1000
        },
        "id": "5kWuzkwHUKDR",
        "outputId": "4621f741-4fc9-4851-8a95-bbe44f3a5f08"
      },
      "execution_count": null,
      "outputs": [
        {
          "output_type": "execute_result",
          "data": {
            "text/plain": [
              "       article_id                         title  \\\n",
              "3336     10340479  有名企業の役員も御用達！　接待を成功に導くレストラン５選   \n",
              "3338     10340479  有名企業の役員も御用達！　接待を成功に導くレストラン５選   \n",
              "3337     10340479  有名企業の役員も御用達！　接待を成功に導くレストラン５選   \n",
              "8876     10422202           子どもの友だち、家に上げる？上げない？   \n",
              "8875     10422202           子どもの友だち、家に上げる？上げない？   \n",
              "8874     10422202           子どもの友だち、家に上げる？上げない？   \n",
              "10991    10428883          あなたは大丈夫？不倫にハマるのはこんな人   \n",
              "10990    10428883          あなたは大丈夫？不倫にハマるのはこんな人   \n",
              "10989    10428883          あなたは大丈夫？不倫にハマるのはこんな人   \n",
              "12845    10456562        情熱的な恋＆純愛を楽しめる星座相性ランキング   \n",
              "\n",
              "                                                    body  \\\n",
              "3336   \\n仕事ができる人は使えるレストランを知っている。いま注目の企業の経営者が、ここぞというとき...   \n",
              "3338   \\n仕事ができる人は使えるレストランを知っている。いま注目の企業の経営者が、ここぞというとき...   \n",
              "3337   \\n仕事ができる人は使えるレストランを知っている。いま注目の企業の経営者が、ここぞというとき...   \n",
              "8876   \\n子どもがお友達と遊ぶのが楽しくなってくる年齢になると、子どもに「お友達とうちで遊びたい」...   \n",
              "8875   \\n子どもがお友達と遊ぶのが楽しくなってくる年齢になると、子どもに「お友達とうちで遊びたい」...   \n",
              "8874   \\n子どもがお友達と遊ぶのが楽しくなってくる年齢になると、子どもに「お友達とうちで遊びたい」...   \n",
              "10991  \\n恋の悩みは尽きないもの。そして、恋の悩みの中でも、より一層泥沼化しやすい悩みが『不倫』で...   \n",
              "10990  \\n恋の悩みは尽きないもの。そして、恋の悩みの中でも、より一層泥沼化しやすい悩みが『不倫』で...   \n",
              "10989  \\n恋の悩みは尽きないもの。そして、恋の悩みの中でも、より一層泥沼化しやすい悩みが『不倫』で...   \n",
              "12845  \\n1情熱的な恋愛になる星座ランキング〜心が熱く燃え上がる星の組み合わせは？〜第１位「さそり...   \n",
              "\n",
              "                                   summary  \n",
              "3336     有名企業の役員御用達の接待を成功に導くレストラン5選を紹介している  \n",
              "3338               「IL BUTTERO」「フレンチ キッチン」  \n",
              "3337               「料亭 三長」「分とく山」「居酒屋 東京十月」  \n",
              "8876        「よそのお宅にも上がらないように言っている」との声もあがった  \n",
              "8875   ある母親は、押し入れやタンスを開けられて以来、出入り禁止にしたとのこと  \n",
              "8874              子供の友達を「家に入れない」主義の親がいるという  \n",
              "10991              寂しがり屋、普段あまり異性との交流がないの5つ  \n",
              "10990   雰囲気に流されやすい、NOと言うのが苦手、何歳になっても恋バナが好き  \n",
              "10989               不倫にハマりやすい人の傾向5つを紹介している  \n",
              "12845      情熱的な恋愛になる星座の1位は、「さそり座⇔ふたご座」となった  "
            ],
            "text/html": [
              "\n",
              "  <div id=\"df-f17d44c0-fa54-48eb-b528-7ea52cdee7ab\">\n",
              "    <div class=\"colab-df-container\">\n",
              "      <div>\n",
              "<style scoped>\n",
              "    .dataframe tbody tr th:only-of-type {\n",
              "        vertical-align: middle;\n",
              "    }\n",
              "\n",
              "    .dataframe tbody tr th {\n",
              "        vertical-align: top;\n",
              "    }\n",
              "\n",
              "    .dataframe thead th {\n",
              "        text-align: right;\n",
              "    }\n",
              "</style>\n",
              "<table border=\"1\" class=\"dataframe\">\n",
              "  <thead>\n",
              "    <tr style=\"text-align: right;\">\n",
              "      <th></th>\n",
              "      <th>article_id</th>\n",
              "      <th>title</th>\n",
              "      <th>body</th>\n",
              "      <th>summary</th>\n",
              "    </tr>\n",
              "  </thead>\n",
              "  <tbody>\n",
              "    <tr>\n",
              "      <th>3336</th>\n",
              "      <td>10340479</td>\n",
              "      <td>有名企業の役員も御用達！　接待を成功に導くレストラン５選</td>\n",
              "      <td>\\n仕事ができる人は使えるレストランを知っている。いま注目の企業の経営者が、ここぞというとき...</td>\n",
              "      <td>有名企業の役員御用達の接待を成功に導くレストラン5選を紹介している</td>\n",
              "    </tr>\n",
              "    <tr>\n",
              "      <th>3338</th>\n",
              "      <td>10340479</td>\n",
              "      <td>有名企業の役員も御用達！　接待を成功に導くレストラン５選</td>\n",
              "      <td>\\n仕事ができる人は使えるレストランを知っている。いま注目の企業の経営者が、ここぞというとき...</td>\n",
              "      <td>「IL BUTTERO」「フレンチ キッチン」</td>\n",
              "    </tr>\n",
              "    <tr>\n",
              "      <th>3337</th>\n",
              "      <td>10340479</td>\n",
              "      <td>有名企業の役員も御用達！　接待を成功に導くレストラン５選</td>\n",
              "      <td>\\n仕事ができる人は使えるレストランを知っている。いま注目の企業の経営者が、ここぞというとき...</td>\n",
              "      <td>「料亭 三長」「分とく山」「居酒屋 東京十月」</td>\n",
              "    </tr>\n",
              "    <tr>\n",
              "      <th>8876</th>\n",
              "      <td>10422202</td>\n",
              "      <td>子どもの友だち、家に上げる？上げない？</td>\n",
              "      <td>\\n子どもがお友達と遊ぶのが楽しくなってくる年齢になると、子どもに「お友達とうちで遊びたい」...</td>\n",
              "      <td>「よそのお宅にも上がらないように言っている」との声もあがった</td>\n",
              "    </tr>\n",
              "    <tr>\n",
              "      <th>8875</th>\n",
              "      <td>10422202</td>\n",
              "      <td>子どもの友だち、家に上げる？上げない？</td>\n",
              "      <td>\\n子どもがお友達と遊ぶのが楽しくなってくる年齢になると、子どもに「お友達とうちで遊びたい」...</td>\n",
              "      <td>ある母親は、押し入れやタンスを開けられて以来、出入り禁止にしたとのこと</td>\n",
              "    </tr>\n",
              "    <tr>\n",
              "      <th>8874</th>\n",
              "      <td>10422202</td>\n",
              "      <td>子どもの友だち、家に上げる？上げない？</td>\n",
              "      <td>\\n子どもがお友達と遊ぶのが楽しくなってくる年齢になると、子どもに「お友達とうちで遊びたい」...</td>\n",
              "      <td>子供の友達を「家に入れない」主義の親がいるという</td>\n",
              "    </tr>\n",
              "    <tr>\n",
              "      <th>10991</th>\n",
              "      <td>10428883</td>\n",
              "      <td>あなたは大丈夫？不倫にハマるのはこんな人</td>\n",
              "      <td>\\n恋の悩みは尽きないもの。そして、恋の悩みの中でも、より一層泥沼化しやすい悩みが『不倫』で...</td>\n",
              "      <td>寂しがり屋、普段あまり異性との交流がないの5つ</td>\n",
              "    </tr>\n",
              "    <tr>\n",
              "      <th>10990</th>\n",
              "      <td>10428883</td>\n",
              "      <td>あなたは大丈夫？不倫にハマるのはこんな人</td>\n",
              "      <td>\\n恋の悩みは尽きないもの。そして、恋の悩みの中でも、より一層泥沼化しやすい悩みが『不倫』で...</td>\n",
              "      <td>雰囲気に流されやすい、NOと言うのが苦手、何歳になっても恋バナが好き</td>\n",
              "    </tr>\n",
              "    <tr>\n",
              "      <th>10989</th>\n",
              "      <td>10428883</td>\n",
              "      <td>あなたは大丈夫？不倫にハマるのはこんな人</td>\n",
              "      <td>\\n恋の悩みは尽きないもの。そして、恋の悩みの中でも、より一層泥沼化しやすい悩みが『不倫』で...</td>\n",
              "      <td>不倫にハマりやすい人の傾向5つを紹介している</td>\n",
              "    </tr>\n",
              "    <tr>\n",
              "      <th>12845</th>\n",
              "      <td>10456562</td>\n",
              "      <td>情熱的な恋＆純愛を楽しめる星座相性ランキング</td>\n",
              "      <td>\\n1情熱的な恋愛になる星座ランキング〜心が熱く燃え上がる星の組み合わせは？〜第１位「さそり...</td>\n",
              "      <td>情熱的な恋愛になる星座の1位は、「さそり座⇔ふたご座」となった</td>\n",
              "    </tr>\n",
              "  </tbody>\n",
              "</table>\n",
              "</div>\n",
              "      <button class=\"colab-df-convert\" onclick=\"convertToInteractive('df-f17d44c0-fa54-48eb-b528-7ea52cdee7ab')\"\n",
              "              title=\"Convert this dataframe to an interactive table.\"\n",
              "              style=\"display:none;\">\n",
              "        \n",
              "  <svg xmlns=\"http://www.w3.org/2000/svg\" height=\"24px\"viewBox=\"0 0 24 24\"\n",
              "       width=\"24px\">\n",
              "    <path d=\"M0 0h24v24H0V0z\" fill=\"none\"/>\n",
              "    <path d=\"M18.56 5.44l.94 2.06.94-2.06 2.06-.94-2.06-.94-.94-2.06-.94 2.06-2.06.94zm-11 1L8.5 8.5l.94-2.06 2.06-.94-2.06-.94L8.5 2.5l-.94 2.06-2.06.94zm10 10l.94 2.06.94-2.06 2.06-.94-2.06-.94-.94-2.06-.94 2.06-2.06.94z\"/><path d=\"M17.41 7.96l-1.37-1.37c-.4-.4-.92-.59-1.43-.59-.52 0-1.04.2-1.43.59L10.3 9.45l-7.72 7.72c-.78.78-.78 2.05 0 2.83L4 21.41c.39.39.9.59 1.41.59.51 0 1.02-.2 1.41-.59l7.78-7.78 2.81-2.81c.8-.78.8-2.07 0-2.86zM5.41 20L4 18.59l7.72-7.72 1.47 1.35L5.41 20z\"/>\n",
              "  </svg>\n",
              "      </button>\n",
              "      \n",
              "  <style>\n",
              "    .colab-df-container {\n",
              "      display:flex;\n",
              "      flex-wrap:wrap;\n",
              "      gap: 12px;\n",
              "    }\n",
              "\n",
              "    .colab-df-convert {\n",
              "      background-color: #E8F0FE;\n",
              "      border: none;\n",
              "      border-radius: 50%;\n",
              "      cursor: pointer;\n",
              "      display: none;\n",
              "      fill: #1967D2;\n",
              "      height: 32px;\n",
              "      padding: 0 0 0 0;\n",
              "      width: 32px;\n",
              "    }\n",
              "\n",
              "    .colab-df-convert:hover {\n",
              "      background-color: #E2EBFA;\n",
              "      box-shadow: 0px 1px 2px rgba(60, 64, 67, 0.3), 0px 1px 3px 1px rgba(60, 64, 67, 0.15);\n",
              "      fill: #174EA6;\n",
              "    }\n",
              "\n",
              "    [theme=dark] .colab-df-convert {\n",
              "      background-color: #3B4455;\n",
              "      fill: #D2E3FC;\n",
              "    }\n",
              "\n",
              "    [theme=dark] .colab-df-convert:hover {\n",
              "      background-color: #434B5C;\n",
              "      box-shadow: 0px 1px 3px 1px rgba(0, 0, 0, 0.15);\n",
              "      filter: drop-shadow(0px 1px 2px rgba(0, 0, 0, 0.3));\n",
              "      fill: #FFFFFF;\n",
              "    }\n",
              "  </style>\n",
              "\n",
              "      <script>\n",
              "        const buttonEl =\n",
              "          document.querySelector('#df-f17d44c0-fa54-48eb-b528-7ea52cdee7ab button.colab-df-convert');\n",
              "        buttonEl.style.display =\n",
              "          google.colab.kernel.accessAllowed ? 'block' : 'none';\n",
              "\n",
              "        async function convertToInteractive(key) {\n",
              "          const element = document.querySelector('#df-f17d44c0-fa54-48eb-b528-7ea52cdee7ab');\n",
              "          const dataTable =\n",
              "            await google.colab.kernel.invokeFunction('convertToInteractive',\n",
              "                                                     [key], {});\n",
              "          if (!dataTable) return;\n",
              "\n",
              "          const docLinkHtml = 'Like what you see? Visit the ' +\n",
              "            '<a target=\"_blank\" href=https://colab.research.google.com/notebooks/data_table.ipynb>data table notebook</a>'\n",
              "            + ' to learn more about interactive tables.';\n",
              "          element.innerHTML = '';\n",
              "          dataTable['output_type'] = 'display_data';\n",
              "          await google.colab.output.renderOutput(dataTable, element);\n",
              "          const docLink = document.createElement('div');\n",
              "          docLink.innerHTML = docLinkHtml;\n",
              "          element.appendChild(docLink);\n",
              "        }\n",
              "      </script>\n",
              "    </div>\n",
              "  </div>\n",
              "  "
            ]
          },
          "metadata": {},
          "execution_count": 6
        }
      ]
    },
    {
      "cell_type": "code",
      "source": [
        "def join_text(x, add_char='。'):\n",
        "    return add_char.join(x)\n",
        "\n",
        "def preprocess_text(text):\n",
        "    text = re.sub(r'[\\r\\t\\n\\u3000]', '', text)\n",
        "    text = neologdn.normalize(text)\n",
        "    text = text.lower()\n",
        "    text = text.strip()\n",
        "    return text\n",
        "\n",
        "summary_data = summary_data.query('text.notnull()', engine='python').groupby(\n",
        "    'article_id'\n",
        ").agg({'text': join_text})\n",
        "\n",
        "body_data = body_data.query('text.notnull()', engine='python')\n",
        "\n",
        "data = pd.merge(\n",
        "    body_data.rename(columns={'text': 'body_text'}),\n",
        "    summary_data.rename(columns={'text': 'summary_text'}),\n",
        "    on='article_id', how='inner'\n",
        ").assign(\n",
        "    body_text=lambda x: x.body_text.map(lambda y: preprocess_text(y)),\n",
        "    summary_text=lambda x: x.summary_text.map(lambda y: preprocess_text(y))\n",
        ")"
      ],
      "metadata": {
        "id": "iFmPgUljWgbj"
      },
      "execution_count": null,
      "outputs": []
    },
    {
      "cell_type": "code",
      "source": [
        "def convert_batch_data(train_data, valid_data, tokenizer):\n",
        "\n",
        "    def generate_batch(data):\n",
        "\n",
        "        batch_src, batch_tgt = [], []\n",
        "        for src, tgt in data:\n",
        "            batch_src.append(src)\n",
        "            batch_tgt.append(tgt)\n",
        "\n",
        "        batch_src = tokenizer(\n",
        "            batch_src, max_length=settings.max_length_src, truncation=True, padding=\"max_length\", return_tensors=\"pt\"\n",
        "        )\n",
        "        batch_tgt = tokenizer(\n",
        "            batch_tgt, max_length=settings.max_length_target, truncation=True, padding=\"max_length\", return_tensors=\"pt\"\n",
        "        )\n",
        "\n",
        "        return batch_src, batch_tgt\n",
        "\n",
        "    train_iter = DataLoader(train_data, batch_size=settings.batch_size_train, shuffle=True, collate_fn=generate_batch)\n",
        "    valid_iter = DataLoader(valid_data, batch_size=settings.batch_size_valid, shuffle=True, collate_fn=generate_batch)\n",
        "\n",
        "    return train_iter, valid_iter\n",
        "\n",
        "tokenizer = T5Tokenizer.from_pretrained(settings.MODEL_NAME, is_fast=True)\n",
        "\n",
        "X_train, X_test, y_train, y_test = train_test_split(\n",
        "    data['body_text'], data['summary_text'], test_size=0.2, random_state=42, shuffle=True\n",
        ")\n",
        "\n",
        "train_data = [(src, tgt) for src, tgt in zip(X_train, y_train)]\n",
        "valid_data = [(src, tgt) for src, tgt in zip(X_test, y_test)]\n",
        "\n",
        "train_iter, valid_iter = convert_batch_data(train_data, valid_data, tokenizer)"
      ],
      "metadata": {
        "id": "sX3hv8-cQIij"
      },
      "execution_count": null,
      "outputs": []
    },
    {
      "cell_type": "code",
      "source": [
        "class T5FineTuner(nn.Module):\n",
        "    \n",
        "    def __init__(self):\n",
        "        super().__init__()\n",
        "\n",
        "        self.model = T5ForConditionalGeneration.from_pretrained(settings.MODEL_NAME)\n",
        "\n",
        "    def forward(\n",
        "        self, input_ids, attention_mask=None, decoder_input_ids=None,\n",
        "        decoder_attention_mask=None, labels=None\n",
        "    ):\n",
        "        return self.model(\n",
        "            input_ids,\n",
        "            attention_mask=attention_mask,\n",
        "            decoder_input_ids=decoder_input_ids,\n",
        "            decoder_attention_mask=decoder_attention_mask,\n",
        "            labels=labels\n",
        "        )"
      ],
      "metadata": {
        "id": "swwM2QxfVDCs"
      },
      "execution_count": null,
      "outputs": []
    },
    {
      "cell_type": "code",
      "source": [
        "def train(model, data, optimizer, PAD_IDX):\n",
        "    \n",
        "    model.train()\n",
        "    \n",
        "    loop = 1\n",
        "    losses = 0\n",
        "    pbar = tqdm(data)\n",
        "    for src, tgt in pbar:\n",
        "                \n",
        "        optimizer.zero_grad()\n",
        "        \n",
        "        labels = tgt['input_ids'].to(settings.device)\n",
        "        labels[labels[:, :] == PAD_IDX] = -100\n",
        "\n",
        "        outputs = model(\n",
        "            input_ids=src['input_ids'].to(settings.device),\n",
        "            attention_mask=src['attention_mask'].to(settings.device),\n",
        "            decoder_attention_mask=tgt['attention_mask'].to(settings.device),\n",
        "            labels=labels\n",
        "        )\n",
        "        loss = outputs['loss']\n",
        "\n",
        "        loss.backward()\n",
        "        optimizer.step()\n",
        "        losses += loss.item()\n",
        "        \n",
        "        pbar.set_postfix(loss=losses / loop)\n",
        "        loop += 1\n",
        "        \n",
        "    return losses / len(data)\n",
        "\n",
        "def evaluate(model, data, PAD_IDX):\n",
        "    \n",
        "    model.eval()\n",
        "    losses = 0\n",
        "    with torch.no_grad():\n",
        "        for src, tgt in data:\n",
        "\n",
        "            labels = tgt['input_ids'].to(settings.device)\n",
        "            labels[labels[:, :] == PAD_IDX] = -100\n",
        "\n",
        "            outputs = model(\n",
        "                input_ids=src['input_ids'].to(settings.device),\n",
        "                attention_mask=src['attention_mask'].to(settings.device),\n",
        "                decoder_attention_mask=tgt['attention_mask'].to(settings.device),\n",
        "                labels=labels\n",
        "            )\n",
        "            loss = outputs['loss']\n",
        "            losses += loss.item()\n",
        "        \n",
        "    return losses / len(data)"
      ],
      "metadata": {
        "id": "8LDfbP_7VGWm"
      },
      "execution_count": null,
      "outputs": []
    },
    {
      "cell_type": "code",
      "source": [
        "model = T5FineTuner()\n",
        "model = model.to(settings.device)\n",
        "\n",
        "optimizer = optim.Adam(model.parameters())\n",
        "\n",
        "PAD_IDX = tokenizer.pad_token_id\n",
        "best_loss = float('Inf')\n",
        "best_model = None\n",
        "counter = 1\n",
        "\n",
        "for loop in range(1, settings.epochs + 1):\n",
        "\n",
        "    start_time = time.time()\n",
        "\n",
        "    loss_train = train(model=model, data=train_iter, optimizer=optimizer, PAD_IDX=PAD_IDX)\n",
        "\n",
        "    elapsed_time = time.time() - start_time\n",
        "\n",
        "    loss_valid = evaluate(model=model, data=valid_iter, PAD_IDX=PAD_IDX)\n",
        "\n",
        "    print('[{}/{}] train loss: {:.4f}, valid loss: {:.4f} [{}{:.0f}s] counter: {} {}'.format(\n",
        "        loop, settings.epochs, loss_train, loss_valid,\n",
        "        str(int(math.floor(elapsed_time / 60))) + 'm' if math.floor(elapsed_time / 60) > 0 else '',\n",
        "        elapsed_time % 60,\n",
        "        counter,\n",
        "        '**' if best_loss > loss_valid else ''\n",
        "    ))\n",
        "\n",
        "    if best_loss > loss_valid:\n",
        "        best_loss = loss_valid\n",
        "        best_model = copy.deepcopy(model)\n",
        "        counter = 1\n",
        "    else:\n",
        "        if counter > settings.patience:\n",
        "            break\n",
        "\n",
        "        counter += 1"
      ],
      "metadata": {
        "colab": {
          "base_uri": "https://localhost:8080/",
          "height": 900,
          "referenced_widgets": [
            "40b29b2aa6344639a2e9b3d0fcaa7f30",
            "e3af4e80c89845d695c6d87fd434f403",
            "b490c66ae24343b6b39b88cdc23f99c6",
            "1aede502e9b04f41aec984052b166112",
            "3046773b096f40de9a74cabf8bc5e87c",
            "5f374c918152498ea6b609ce8d6d6721",
            "292833533ae845e88e2ae2fe1786b5bf",
            "cacb8f5f2f3e4bc8a795dd48b84b6d3f",
            "dada8d8dc064432ea2cab4a7a4bd0e8b",
            "282b49e601c4471d8bcf63d42ee538bd",
            "db31d74b09b24e2da6fe5ba84ec82b8c"
          ]
        },
        "id": "mYT3qlUZVMnW",
        "outputId": "f73ce88c-5c33-4923-f0b7-465b7de9adb1"
      },
      "execution_count": null,
      "outputs": [
        {
          "output_type": "display_data",
          "data": {
            "text/plain": [
              "Downloading pytorch_model.bin:   0%|          | 0.00/892M [00:00<?, ?B/s]"
            ],
            "application/vnd.jupyter.widget-view+json": {
              "version_major": 2,
              "version_minor": 0,
              "model_id": "40b29b2aa6344639a2e9b3d0fcaa7f30"
            }
          },
          "metadata": {}
        },
        {
          "output_type": "stream",
          "name": "stderr",
          "text": [
            "100%|██████████| 469/469 [11:07<00:00,  1.42s/it, loss=2.1]\n"
          ]
        },
        {
          "output_type": "stream",
          "name": "stdout",
          "text": [
            "[1/1000] train loss: 2.1027, valid loss: 1.8585 [11m8s] counter: 1 **\n"
          ]
        },
        {
          "output_type": "stream",
          "name": "stderr",
          "text": [
            "100%|██████████| 469/469 [11:05<00:00,  1.42s/it, loss=1.54]\n"
          ]
        },
        {
          "output_type": "stream",
          "name": "stdout",
          "text": [
            "[2/1000] train loss: 1.5381, valid loss: 1.8866 [11m5s] counter: 1 \n"
          ]
        },
        {
          "output_type": "stream",
          "name": "stderr",
          "text": [
            "100%|██████████| 469/469 [11:14<00:00,  1.44s/it, loss=1.2]\n"
          ]
        },
        {
          "output_type": "stream",
          "name": "stdout",
          "text": [
            "[3/1000] train loss: 1.2012, valid loss: 1.9766 [11m15s] counter: 2 \n"
          ]
        },
        {
          "output_type": "stream",
          "name": "stderr",
          "text": [
            "100%|██████████| 469/469 [11:09<00:00,  1.43s/it, loss=0.942]\n"
          ]
        },
        {
          "output_type": "stream",
          "name": "stdout",
          "text": [
            "[4/1000] train loss: 0.9421, valid loss: 2.1776 [11m10s] counter: 3 \n"
          ]
        },
        {
          "output_type": "stream",
          "name": "stderr",
          "text": [
            "100%|██████████| 469/469 [11:02<00:00,  1.41s/it, loss=0.756]\n"
          ]
        },
        {
          "output_type": "stream",
          "name": "stdout",
          "text": [
            "[5/1000] train loss: 0.7564, valid loss: 2.2716 [11m3s] counter: 4 \n"
          ]
        },
        {
          "output_type": "stream",
          "name": "stderr",
          "text": [
            "100%|██████████| 469/469 [11:10<00:00,  1.43s/it, loss=0.604]\n"
          ]
        },
        {
          "output_type": "stream",
          "name": "stdout",
          "text": [
            "[6/1000] train loss: 0.6039, valid loss: 2.4815 [11m11s] counter: 5 \n"
          ]
        },
        {
          "output_type": "stream",
          "name": "stderr",
          "text": [
            "100%|██████████| 469/469 [11:07<00:00,  1.42s/it, loss=0.488]\n"
          ]
        },
        {
          "output_type": "stream",
          "name": "stdout",
          "text": [
            "[7/1000] train loss: 0.4882, valid loss: 2.6266 [11m8s] counter: 6 \n"
          ]
        },
        {
          "output_type": "stream",
          "name": "stderr",
          "text": [
            "100%|██████████| 469/469 [11:09<00:00,  1.43s/it, loss=0.409]\n"
          ]
        },
        {
          "output_type": "stream",
          "name": "stdout",
          "text": [
            "[8/1000] train loss: 0.4087, valid loss: 2.8186 [11m9s] counter: 7 \n"
          ]
        },
        {
          "output_type": "stream",
          "name": "stderr",
          "text": [
            "100%|██████████| 469/469 [11:19<00:00,  1.45s/it, loss=0.408]\n"
          ]
        },
        {
          "output_type": "stream",
          "name": "stdout",
          "text": [
            "[9/1000] train loss: 0.4080, valid loss: 2.9436 [11m19s] counter: 8 \n"
          ]
        },
        {
          "output_type": "stream",
          "name": "stderr",
          "text": [
            "100%|██████████| 469/469 [11:13<00:00,  1.44s/it, loss=0.326]\n"
          ]
        },
        {
          "output_type": "stream",
          "name": "stdout",
          "text": [
            "[10/1000] train loss: 0.3256, valid loss: 2.9992 [11m14s] counter: 9 \n"
          ]
        },
        {
          "output_type": "stream",
          "name": "stderr",
          "text": [
            " 41%|████      | 191/469 [04:32<06:36,  1.42s/it, loss=0.247]\n"
          ]
        },
        {
          "output_type": "error",
          "ename": "KeyboardInterrupt",
          "evalue": "ignored",
          "traceback": [
            "\u001b[0;31m---------------------------------------------------------------------------\u001b[0m",
            "\u001b[0;31mKeyboardInterrupt\u001b[0m                         Traceback (most recent call last)",
            "\u001b[0;32m<ipython-input-11-7f3ee1b9d246>\u001b[0m in \u001b[0;36m<cell line: 11>\u001b[0;34m()\u001b[0m\n\u001b[1;32m     13\u001b[0m     \u001b[0mstart_time\u001b[0m \u001b[0;34m=\u001b[0m \u001b[0mtime\u001b[0m\u001b[0;34m.\u001b[0m\u001b[0mtime\u001b[0m\u001b[0;34m(\u001b[0m\u001b[0;34m)\u001b[0m\u001b[0;34m\u001b[0m\u001b[0;34m\u001b[0m\u001b[0m\n\u001b[1;32m     14\u001b[0m \u001b[0;34m\u001b[0m\u001b[0m\n\u001b[0;32m---> 15\u001b[0;31m     \u001b[0mloss_train\u001b[0m \u001b[0;34m=\u001b[0m \u001b[0mtrain\u001b[0m\u001b[0;34m(\u001b[0m\u001b[0mmodel\u001b[0m\u001b[0;34m=\u001b[0m\u001b[0mmodel\u001b[0m\u001b[0;34m,\u001b[0m \u001b[0mdata\u001b[0m\u001b[0;34m=\u001b[0m\u001b[0mtrain_iter\u001b[0m\u001b[0;34m,\u001b[0m \u001b[0moptimizer\u001b[0m\u001b[0;34m=\u001b[0m\u001b[0moptimizer\u001b[0m\u001b[0;34m,\u001b[0m \u001b[0mPAD_IDX\u001b[0m\u001b[0;34m=\u001b[0m\u001b[0mPAD_IDX\u001b[0m\u001b[0;34m)\u001b[0m\u001b[0;34m\u001b[0m\u001b[0;34m\u001b[0m\u001b[0m\n\u001b[0m\u001b[1;32m     16\u001b[0m \u001b[0;34m\u001b[0m\u001b[0m\n\u001b[1;32m     17\u001b[0m     \u001b[0melapsed_time\u001b[0m \u001b[0;34m=\u001b[0m \u001b[0mtime\u001b[0m\u001b[0;34m.\u001b[0m\u001b[0mtime\u001b[0m\u001b[0;34m(\u001b[0m\u001b[0;34m)\u001b[0m \u001b[0;34m-\u001b[0m \u001b[0mstart_time\u001b[0m\u001b[0;34m\u001b[0m\u001b[0;34m\u001b[0m\u001b[0m\n",
            "\u001b[0;32m<ipython-input-10-016d16541f2f>\u001b[0m in \u001b[0;36mtrain\u001b[0;34m(model, data, optimizer, PAD_IDX)\u001b[0m\n\u001b[1;32m     21\u001b[0m         \u001b[0mloss\u001b[0m \u001b[0;34m=\u001b[0m \u001b[0moutputs\u001b[0m\u001b[0;34m[\u001b[0m\u001b[0;34m'loss'\u001b[0m\u001b[0;34m]\u001b[0m\u001b[0;34m\u001b[0m\u001b[0;34m\u001b[0m\u001b[0m\n\u001b[1;32m     22\u001b[0m \u001b[0;34m\u001b[0m\u001b[0m\n\u001b[0;32m---> 23\u001b[0;31m         \u001b[0mloss\u001b[0m\u001b[0;34m.\u001b[0m\u001b[0mbackward\u001b[0m\u001b[0;34m(\u001b[0m\u001b[0;34m)\u001b[0m\u001b[0;34m\u001b[0m\u001b[0;34m\u001b[0m\u001b[0m\n\u001b[0m\u001b[1;32m     24\u001b[0m         \u001b[0moptimizer\u001b[0m\u001b[0;34m.\u001b[0m\u001b[0mstep\u001b[0m\u001b[0;34m(\u001b[0m\u001b[0;34m)\u001b[0m\u001b[0;34m\u001b[0m\u001b[0;34m\u001b[0m\u001b[0m\n\u001b[1;32m     25\u001b[0m         \u001b[0mlosses\u001b[0m \u001b[0;34m+=\u001b[0m \u001b[0mloss\u001b[0m\u001b[0;34m.\u001b[0m\u001b[0mitem\u001b[0m\u001b[0;34m(\u001b[0m\u001b[0;34m)\u001b[0m\u001b[0;34m\u001b[0m\u001b[0;34m\u001b[0m\u001b[0m\n",
            "\u001b[0;32m/usr/local/lib/python3.10/dist-packages/torch/_tensor.py\u001b[0m in \u001b[0;36mbackward\u001b[0;34m(self, gradient, retain_graph, create_graph, inputs)\u001b[0m\n\u001b[1;32m    486\u001b[0m                 \u001b[0minputs\u001b[0m\u001b[0;34m=\u001b[0m\u001b[0minputs\u001b[0m\u001b[0;34m,\u001b[0m\u001b[0;34m\u001b[0m\u001b[0;34m\u001b[0m\u001b[0m\n\u001b[1;32m    487\u001b[0m             )\n\u001b[0;32m--> 488\u001b[0;31m         torch.autograd.backward(\n\u001b[0m\u001b[1;32m    489\u001b[0m             \u001b[0mself\u001b[0m\u001b[0;34m,\u001b[0m \u001b[0mgradient\u001b[0m\u001b[0;34m,\u001b[0m \u001b[0mretain_graph\u001b[0m\u001b[0;34m,\u001b[0m \u001b[0mcreate_graph\u001b[0m\u001b[0;34m,\u001b[0m \u001b[0minputs\u001b[0m\u001b[0;34m=\u001b[0m\u001b[0minputs\u001b[0m\u001b[0;34m\u001b[0m\u001b[0;34m\u001b[0m\u001b[0m\n\u001b[1;32m    490\u001b[0m         )\n",
            "\u001b[0;32m/usr/local/lib/python3.10/dist-packages/torch/autograd/__init__.py\u001b[0m in \u001b[0;36mbackward\u001b[0;34m(tensors, grad_tensors, retain_graph, create_graph, grad_variables, inputs)\u001b[0m\n\u001b[1;32m    195\u001b[0m     \u001b[0;31m# some Python versions print out the first line of a multi-line function\u001b[0m\u001b[0;34m\u001b[0m\u001b[0;34m\u001b[0m\u001b[0m\n\u001b[1;32m    196\u001b[0m     \u001b[0;31m# calls in the traceback and some print out the last line\u001b[0m\u001b[0;34m\u001b[0m\u001b[0;34m\u001b[0m\u001b[0m\n\u001b[0;32m--> 197\u001b[0;31m     Variable._execution_engine.run_backward(  # Calls into the C++ engine to run the backward pass\n\u001b[0m\u001b[1;32m    198\u001b[0m         \u001b[0mtensors\u001b[0m\u001b[0;34m,\u001b[0m \u001b[0mgrad_tensors_\u001b[0m\u001b[0;34m,\u001b[0m \u001b[0mretain_graph\u001b[0m\u001b[0;34m,\u001b[0m \u001b[0mcreate_graph\u001b[0m\u001b[0;34m,\u001b[0m \u001b[0minputs\u001b[0m\u001b[0;34m,\u001b[0m\u001b[0;34m\u001b[0m\u001b[0;34m\u001b[0m\u001b[0m\n\u001b[1;32m    199\u001b[0m         allow_unreachable=True, accumulate_grad=True)  # Calls into the C++ engine to run the backward pass\n",
            "\u001b[0;31mKeyboardInterrupt\u001b[0m: "
          ]
        }
      ]
    },
    {
      "cell_type": "code",
      "source": [
        " # 保存\n",
        "save_path = \"my_model_training_state.pt\"\n",
        "torch.save({'loop': loop,\n",
        "            'model_state_dict': model.state_dict(),\n",
        "            'optimizer_state_dict': optimizer.state_dict(),\n",
        "            'loss_valid': loss_valid,\n",
        "            'loss_train': loss_train},\n",
        "           save_path)"
      ],
      "metadata": {
        "id": "2uNTRU83vytE"
      },
      "execution_count": null,
      "outputs": []
    },
    {
      "cell_type": "code",
      "source": [
        "\n",
        "#　読み込み\n",
        "model = TheModelClass(*args, **kwargs)\n",
        "optimizer = optim.SGD(model_ft.parameters(), lr=0.001, momentum=0.9)\n",
        "\n",
        "PATH = \"my_model_training_state.pt\"\n",
        "checkpoint = torch.load(PATH)\n",
        "model.load_state_dict(checkpoint['model_state_dict'])\n",
        "optimizer.load_state_dict(checkpoint['optimizer_state_dict'])\n",
        "\n",
        "device = torch.device(\"cuda:0\" if torch.cuda.is_available() else \"cpu\")\n",
        "\n",
        "# optimizerのstateを現在のdeviceに移す。これをしないと、保存前後でdeviceの不整合が起こる可能性がある。\n",
        "for state in optimizer.state.values():\n",
        "    for k, v in state.items():\n",
        "        if isinstance(v, torch.Tensor):\n",
        "            state[k] = v.to(device)\n",
        "epoch = checkpoint['epoch']\n",
        "loss = checkpoint['loss']\n",
        "\n",
        "# model.eval()\n",
        "# # - or -\n",
        "model.train()\n",
        "\n",
        "model = model.to(device)\n",
        "criterion = nn.CrossEntropyLoss()\n",
        "exp_lr_scheduler = lr_scheduler.StepLR(optimizer, step_size=7, gamma=0.1)"
      ],
      "metadata": {
        "id": "4_W3B51Zs8lW"
      },
      "execution_count": null,
      "outputs": []
    },
    {
      "cell_type": "code",
      "source": [
        "model_dir_path = Path('model')\n",
        "if not model_dir_path.exists():\n",
        "    model_dir_path.mkdir(parents=True)\n",
        "\n",
        "tokenizer.save_pretrained(model_dir_path)\n",
        "best_model.model.save_pretrained(model_dir_path)"
      ],
      "metadata": {
        "id": "FOV5Glq3VUGM"
      },
      "execution_count": null,
      "outputs": []
    },
    {
      "cell_type": "code",
      "source": [
        "def generate_text_from_model(text, trained_model, tokenizer, num_return_sequences=1):\n",
        "\n",
        "    trained_model.eval()\n",
        "    \n",
        "    text = preprocess_text(text)\n",
        "    batch = tokenizer(\n",
        "        [text], max_length=settings.max_length_src, truncation=True, padding=\"longest\", return_tensors=\"pt\"\n",
        "    )\n",
        "\n",
        "    # 生成処理を行う\n",
        "    outputs = trained_model.generate(\n",
        "        input_ids=batch['input_ids'].to(settings.device),\n",
        "        attention_mask=batch['attention_mask'].to(settings.device),\n",
        "        max_length=settings.max_length_target,\n",
        "        repetition_penalty=8.0,   # 同じ文の繰り返し（モード崩壊）へのペナルティ\n",
        "        # temperature=1.0,  # 生成にランダム性を入れる温度パラメータ\n",
        "        # num_beams=10,  # ビームサーチの探索幅\n",
        "        # diversity_penalty=1.0,  # 生成結果の多様性を生み出すためのペナルティパラメータ\n",
        "        # num_beam_groups=10,  # ビームサーチのグループ\n",
        "        num_return_sequences=num_return_sequences,  # 生成する文の数\n",
        "    )\n",
        "\n",
        "    generated_texts = [\n",
        "        tokenizer.decode(ids, skip_special_tokens=True, clean_up_tokenization_spaces=False) for ids in outputs\n",
        "    ]\n",
        "\n",
        "    return generated_texts\n",
        "\n",
        "tokenizer = T5Tokenizer.from_pretrained(model_dir_path)\n",
        "trained_model = T5ForConditionalGeneration.from_pretrained(model_dir_path)\n",
        "trained_model = trained_model.to(settings.device)"
      ],
      "metadata": {
        "id": "QqX0ivwKVhYu"
      },
      "execution_count": null,
      "outputs": []
    },
    {
      "cell_type": "code",
      "source": [
        "index = 1\n",
        "body = valid_data[index][0]\n",
        "summaries = valid_data[index][1]\n",
        "generated_texts = generate_text_from_model(\n",
        "    text=body, trained_model=trained_model, tokenizer=tokenizer, num_return_sequences=1\n",
        ")\n",
        "print('□ 生成本文')\n",
        "print('\\n'.join(generated_texts[0].split('。')))\n",
        "print()\n",
        "print('□ 教師データ要約')\n",
        "print('\\n'.join(summaries.split('。')))\n",
        "print()\n",
        "print('□ 本文')\n",
        "print(body)"
      ],
      "metadata": {
        "colab": {
          "base_uri": "https://localhost:8080/"
        },
        "id": "Pj_WR-w-Vj35",
        "outputId": "eea68e22-b9be-438b-fa97-faaf08896194"
      },
      "execution_count": null,
      "outputs": [
        {
          "output_type": "stream",
          "name": "stdout",
          "text": [
            "□ 生成本文\n",
            "リヴァプールとのテストマッチで、4-0と快勝を抑えたマインツ\n",
            "昨季のelファイナリストから4得点をあげることは並大抵のことではないという\n",
            "「結果については慎重に判断していかないと」と語った\n",
            "\n",
            "□ 教師データ要約\n",
            "マインツのシュミット監督が4-0で勝利したリバプール戦について語った\n",
            "ポカール1回戦に向け「精力的にプレーしなくては勝利などできない」と指摘\n",
            "ヨーロッパリーグに向けても「追い風となる」よう願った\n",
            "\n",
            "□ 本文\n",
            "週末に行われたリヴァプールとのテストマッチでは、非常に安定したタイトなディフェンスを披露し、4-0と快勝を抑えたマインツ。しかしマネージャーのシュレーダー氏は「結果については慎重に判断していかないと」と試合後に語った。 しかし昨季のelファイナリストから4得点をあげることは並大抵のことではないことは確かだ。オフェンス面っでもマインツは、サイドからのテンポと正確なパス、そしてその決定力でも納得のプレーを見せており、クレメンスは「めったにリヴァプールとは試合できないし、楽しかったよ」とコメント。この日主将を務めたベルは、ホームの大観衆の背を受けて「これまでのテストマッチよりはやりやすかったね」と振り返っている。 一方のシュミット監督は「ノバーラ戦でも同じように精力的にプレーしていれば敗戦しなかった」との見方を示し、2週間後に控えたポカール1回戦に向けて「同様に精力的にプレーしなくては勝利などできない」と述べ、また「貴重な経験」となるヨーロッパリーグに向けても「追い風となる」よう願った。\n"
          ]
        }
      ]
    }
  ]
}